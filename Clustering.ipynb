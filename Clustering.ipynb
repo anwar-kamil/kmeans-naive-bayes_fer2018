{
 "cells": [
  {
   "cell_type": "code",
   "execution_count": 1,
   "metadata": {},
   "outputs": [
    {
     "name": "stderr",
     "output_type": "stream",
     "text": [
      "C:\\Users\\mpfou\\AppData\\Local\\Continuum\\anaconda3\\lib\\site-packages\\sklearn\\cross_validation.py:41: DeprecationWarning: This module was deprecated in version 0.18 in favor of the model_selection module into which all the refactored classes and functions are moved. Also note that the interface of the new CV iterators are different from that of this module. This module will be removed in 0.20.\n",
      "  \"This module will be removed in 0.20.\", DeprecationWarning)\n"
     ]
    }
   ],
   "source": [
    "import pandas as pd\n",
    "import numpy as np\n",
    "import matplotlib.pyplot as plt\n",
    "import seaborn as sns\n",
    "%matplotlib inline\n",
    "from sklearn.cross_validation import train_test_split\n",
    "from sklearn.cluster import KMeans\n",
    "from scipy.stats import mode\n",
    "from sklearn.metrics import accuracy_score\n",
    "from sklearn.metrics import confusion_matrix"
   ]
  },
  {
   "cell_type": "code",
   "execution_count": 2,
   "metadata": {},
   "outputs": [
    {
     "name": "stdout",
     "output_type": "stream",
     "text": [
      "   emotion   p1   p2   p3   p4   p5   p6   p7   p8   p9  ...    p2295  p2296  \\\n",
      "0        0   70   80   82   72   58   58   60   63   54  ...      159    182   \n",
      "1        0  151  150  147  155  148  133  111  140  170  ...      105    108   \n",
      "2        2  231  212  156  164  174  138  161  173  182  ...      104    138   \n",
      "3        4   24   32   36   30   32   23   19   20   30  ...      174    126   \n",
      "4        6    4    0    0    0    0    0    0    0    0  ...       12     34   \n",
      "\n",
      "   p2297  p2298  p2299  p2300  p2301  p2302  p2303  p2304  \n",
      "0    183    136    106    116     95    106    109     82  \n",
      "1     95    108    102     67    171    193    183    184  \n",
      "2    152    122    114    101     97     88    110    152  \n",
      "3    132    132    133    136    139    142    143    142  \n",
      "4     31     31     31     27     31     30     29     30  \n",
      "\n",
      "[5 rows x 2305 columns]\n"
     ]
    }
   ],
   "source": [
    "#Importing the dataset to pandas\n",
    "data=pd.read_csv('fer2018_data.csv')\n",
    "print(data.head())"
   ]
  },
  {
   "cell_type": "code",
   "execution_count": 3,
   "metadata": {},
   "outputs": [
    {
     "data": {
      "image/png": "[encoded data removed]",
      "text/plain": [
       "<Figure size 432x288 with 1 Axes>"
      ]
     },
     "metadata": {
      "needs_background": "light"
     },
     "output_type": "display_data"
    }
   ],
   "source": [
    "#Showing images in the dataset\n",
    "index=108\n",
    "img=np.array(data.loc[index,'p1':'p2304']).reshape(48,48)\n",
    "plt.imshow(img,cmap='gray')\n",
    "plt.show()"
   ]
  },
  {
   "cell_type": "code",
   "execution_count": 4,
   "metadata": {},
   "outputs": [
    {
     "data": {
      "image/png": "[encoded data removed]",
      "text/plain": [
       "<Figure size 432x288 with 1 Axes>"
      ]
     },
     "metadata": {
      "needs_background": "light"
     },
     "output_type": "display_data"
    }
   ],
   "source": [
    "data['emotion'].value_counts().sort_index().plot.bar()\n",
    "plt.show()"
   ]
  },
  {
   "cell_type": "code",
   "execution_count": 5,
   "metadata": {},
   "outputs": [
    {
     "name": "stdout",
     "output_type": "stream",
     "text": [
      "0    4953\n",
      "1     547\n",
      "2    5121\n",
      "3    8989\n",
      "4    6077\n",
      "5    4002\n",
      "6    6198\n",
      "Name: emotion, dtype: int64\n",
      "0    0.138017\n",
      "1    0.015242\n",
      "2    0.142698\n",
      "3    0.250481\n",
      "4    0.169337\n",
      "5    0.111517\n",
      "6    0.172709\n",
      "Name: emotion, dtype: float64\n"
     ]
    }
   ],
   "source": [
    "print(data['emotion'].value_counts().sort_index())\n",
    "print(data['emotion'].value_counts().sort_index()/data.shape[0])\n"
   ]
  },
  {
   "cell_type": "code",
   "execution_count": 6,
   "metadata": {},
   "outputs": [
    {
     "name": "stdout",
     "output_type": "stream",
     "text": [
      "       emotion   p1   p2   p3   p4   p5   p6   p7   p8   p9  ...    p2295  \\\n",
      "35624        0  122  107   68   76  101  125  141  144  143  ...      128   \n",
      "12788        3  151  151  165  135  131  141  185  164  140  ...      183   \n",
      "7821         3   88   68   83  107   84   62   91  147  159  ...      162   \n",
      "31831        6    0    0    0    0    0    0    0    0    0  ...      176   \n",
      "16799        3  231  193  124   96  115  107   84   76   84  ...       68   \n",
      "\n",
      "       p2296  p2297  p2298  p2299  p2300  p2301  p2302  p2303  p2304  \n",
      "35624    125    123    150    133    114    137    135    139    143  \n",
      "12788    205    213    187    120    146     90     50     83     76  \n",
      "7821     162    168    160    137    111    122    209    228    242  \n",
      "31831    181    180    180    177    177    179    184    190    185  \n",
      "16799     80    100    162    239    236    238    253    239    225  \n",
      "\n",
      "[5 rows x 2305 columns]\n"
     ]
    }
   ],
   "source": [
    "#Randomizing the dataset\n",
    "np.random.seed(1)\n",
    "shuffled_index=np.random.permutation(data.index)\n",
    "final_data=data.loc[shuffled_index]\n",
    "print(final_data.head())"
   ]
  },
  {
   "cell_type": "code",
   "execution_count": 7,
   "metadata": {},
   "outputs": [],
   "source": [
    "#Splitting final_data into train and test set\n",
    "X=final_data.loc[:,'p1':'p2304']\n",
    "y=final_data['emotion']\n",
    "X_train,X_test,y_train,y_test=train_test_split(X,y,test_size=0.20,random_state=40)"
   ]
  },
  {
   "cell_type": "code",
   "execution_count": 8,
   "metadata": {},
   "outputs": [
    {
     "data": {
      "image/png": "[encoded data removed]",
      "text/plain": [
       "<Figure size 432x288 with 1 Axes>"
      ]
     },
     "metadata": {
      "needs_background": "light"
     },
     "output_type": "display_data"
    }
   ],
   "source": [
    "#Plotting emotion column of test dataset\n",
    "y_test.value_counts().sort_index().plot.bar()\n",
    "plt.show()"
   ]
  },
  {
   "cell_type": "code",
   "execution_count": 9,
   "metadata": {},
   "outputs": [
    {
     "data": {
      "image/png": "[encoded data removed]",
      "text/plain": [
       "<Figure size 432x288 with 1 Axes>"
      ]
     },
     "metadata": {
      "needs_background": "light"
     },
     "output_type": "display_data"
    }
   ],
   "source": [
    "from sklearn.naive_bayes import MultinomialNB\n",
    "nb=MultinomialNB()\n",
    "nb.fit(X_train,y_train)\n",
    "\n",
    "#Plotting emotion predicted with all features\n",
    "predictions=nb.predict(X_test)\n",
    "predictions=pd.DataFrame(predictions)\n",
    "predictions[0].value_counts().sort_index().plot.bar()\n",
    "plt.show()"
   ]
  },
  {
   "cell_type": "code",
   "execution_count": 10,
   "metadata": {},
   "outputs": [
    {
     "name": "stdout",
     "output_type": "stream",
     "text": [
      "Overall Accuracy of the model:0.22332125940373362\n"
     ]
    }
   ],
   "source": [
    "print(\"Overall Accuracy of the model:{0}\".format(accuracy_score(y_test,predictions)))"
   ]
  },
  {
   "cell_type": "code",
   "execution_count": 9,
   "metadata": {},
   "outputs": [
    {
     "name": "stdout",
     "output_type": "stream",
     "text": [
      "1041\n",
      "        p1  p48  p49  p96  p97  p144   p2  p145  p192  p47  ...    p490  \\\n",
      "35624  122  142  102  144   82   157  107    91   156  164  ...     200   \n",
      "12788  151   73  138   75  148    79  151   143    70   68  ...     181   \n",
      "7821    88  196  103  205   74   205   68    55   206  196  ...     188   \n",
      "31831    0  219    0  211    0   197    0     0   197  206  ...       1   \n",
      "16799  231  132  232  100  203    86  193   164    85   79  ...      53   \n",
      "\n",
      "       p2100  p712  p2289  p2273  p633  p254  p225  p395  p1016  \n",
      "35624    170   128    212    151   162   174   123   192    192  \n",
      "12788    139   136    168     59   171   146   177   190     83  \n",
      "7821     150   130    156    173   180   208   204   195    190  \n",
      "31831    195   215    183    122     1     0   204     2      2  \n",
      "16799     24    98     33    217    36   140   178    48     39  \n",
      "\n",
      "[5 rows x 1041 columns]\n"
     ]
    }
   ],
   "source": [
    "#Feature extraction\n",
    "normalized_pixels=final_data.loc[:,'p1':'p2304']/255\n",
    "sorted_var=normalized_pixels.var().sort_values(ascending=False)\n",
    "greater_var=sorted_var[sorted_var>0.06]\n",
    "extracted_features=greater_var.index.tolist()\n",
    "print(len(extracted_features))\n",
    "print(final_data[extracted_features].head())"
   ]
  },
  {
   "cell_type": "code",
   "execution_count": 12,
   "metadata": {},
   "outputs": [
    {
     "name": "stdout",
     "output_type": "stream",
     "text": [
      "Overall Accuracy of the model:0.14878796322095292\n"
     ]
    }
   ],
   "source": [
    "nb.fit(X_train[extracted_features],y_train)\n",
    "predictions=nb.predict(X_test[extracted_features])\n",
    "print(\"Overall Accuracy of the model:{0}\".format(accuracy_score(y_test,predictions)))"
   ]
  },
  {
   "cell_type": "code",
   "execution_count": 13,
   "metadata": {},
   "outputs": [
    {
     "data": {
      "image/png": "[encoded data removed]",
      "text/plain": [
       "<Figure size 432x288 with 1 Axes>"
      ]
     },
     "metadata": {
      "needs_background": "light"
     },
     "output_type": "display_data"
    }
   ],
   "source": [
    "#Plotting emotion predicted with extracted features\n",
    "predictions=pd.DataFrame(predictions)\n",
    "predictions[0].value_counts().sort_index().plot.bar()\n",
    "plt.show()"
   ]
  },
  {
   "cell_type": "code",
   "execution_count": 14,
   "metadata": {},
   "outputs": [],
   "source": [
    "#Function for reading and normalizing each files\n",
    "def read_file(file_name):\n",
    "    pd_data=pd.read_csv(file_name)\n",
    "    norm_data=pd_data/255\n",
    "    norm_data['emotion']=pd_data['emotion']\n",
    "    return norm_data\n",
    "\n",
    "#Obtaining the features that are mostly correlated with the target column\n",
    "def absolute_correlation():\n",
    "    file_list=['fer2018_angry.csv','fer2018_disgust.csv','fer2018_fear.csv','fer2018_happy.csv','fer2018_sad.csv','fer2018_surprise.csv','fer2018_neutral.csv']\n",
    "    top_two=[]\n",
    "    top_five=[]\n",
    "    top_ten=[]\n",
    "    top_fifty=[]\n",
    "    for file_name in file_list:\n",
    "        print(\"Started\")\n",
    "        data=read_file(file_name)\n",
    "        print(\"Read {0}\".format(file_name))\n",
    "        corr_coef=np.abs(data.corr()['emotion']).sort_values(ascending=False).head(11)\n",
    "        print(\"Found corr of {0}\".format(file_name))\n",
    "        top_two_each=corr_coef[1:3].index.tolist()\n",
    "        top_five_each=corr_coef[1:6].index.tolist()\n",
    "        top_ten_each=corr_coef[1:11].index.tolist()\n",
    "        \n",
    "        top_two+=top_two_each\n",
    "        top_five+=top_five_each\n",
    "        top_ten+=top_ten_each\n",
    "        \n",
    "        print(\"Finished {0}\".format(file_name))\n",
    "    return top_two,top_five,top_ten \n",
    "        "
   ]
  },
  {
   "cell_type": "code",
   "execution_count": 42,
   "metadata": {},
   "outputs": [
    {
     "name": "stdout",
     "output_type": "stream",
     "text": [
      "Started\n",
      "Read fer2018_angry.csv\n",
      "Found corr of fer2018_angry.csv\n",
      "Finished fer2018_angry.csv\n",
      "Started\n",
      "Read fer2018_disgust.csv\n",
      "Found corr of fer2018_disgust.csv\n",
      "Finished fer2018_disgust.csv\n",
      "Started\n",
      "Read fer2018_fear.csv\n",
      "Found corr of fer2018_fear.csv\n",
      "Finished fer2018_fear.csv\n",
      "Started\n",
      "Read fer2018_happy.csv\n",
      "Found corr of fer2018_happy.csv\n",
      "Finished fer2018_happy.csv\n",
      "Started\n",
      "Read fer2018_sad.csv\n",
      "Found corr of fer2018_sad.csv\n",
      "Finished fer2018_sad.csv\n",
      "Started\n",
      "Read fer2018_surprise.csv\n",
      "Found corr of fer2018_surprise.csv\n",
      "Finished fer2018_surprise.csv\n",
      "Started\n",
      "Read fer2018_neutral.csv\n",
      "Found corr of fer2018_neutral.csv\n",
      "Finished fer2018_neutral.csv\n"
     ]
    }
   ],
   "source": [
    "top_14,top_35,top_70=absolute_correlation()"
   ]
  },
  {
   "cell_type": "code",
   "execution_count": 18,
   "metadata": {},
   "outputs": [
    {
     "name": "stdout",
     "output_type": "stream",
     "text": [
      "['p1362', 'p1314', 'p24', 'p25', 'p818', 'p770', 'p1897', 'p1896', 'p551', 'p599', 'p1408', 'p1456', 'p11', 'p12']\n",
      "['p1362', 'p1314', 'p1363', 'p1409', 'p1315', 'p24', 'p25', 'p30', 'p26', 'p27', 'p818', 'p770', 'p866', 'p819', 'p867', 'p1897', 'p1896', 'p1849', 'p1945', 'p1944', 'p551', 'p599', 'p600', 'p648', 'p552', 'p1408', 'p1456', 'p1409', 'p840', 'p744', 'p11', 'p12', 'p53', 'p197', 'p89']\n",
      "['p1362', 'p1314', 'p1363', 'p1409', 'p1315', 'p1410', 'p1361', 'p1423', 'p1375', 'p1457', 'p24', 'p25', 'p30', 'p26', 'p27', 'p29', 'p31', 'p19', 'p78', 'p79', 'p818', 'p770', 'p866', 'p819', 'p867', 'p911', 'p771', 'p863', 'p914', 'p623', 'p1897', 'p1896', 'p1849', 'p1945', 'p1944', 'p1850', 'p1898', 'p1848', 'p1993', 'p1992', 'p551', 'p599', 'p600', 'p648', 'p552', 'p647', 'p601', 'p649', 'p553', 'p550', 'p1408', 'p1456', 'p1409', 'p840', 'p744', 'p745', 'p792', 'p793', 'p1361', 'p1455', 'p11', 'p12', 'p53', 'p197', 'p89', 'p59', 'p150', 'p245', 'p137', 'p14']\n"
     ]
    }
   ],
   "source": [
    "print(top_14)\n",
    "print(top_35)\n",
    "print(top_70)"
   ]
  },
  {
   "cell_type": "code",
   "execution_count": 11,
   "metadata": {},
   "outputs": [],
   "source": [
    "top_14=['p1362', 'p1314', 'p24', 'p25', 'p818', 'p770', 'p1897', 'p1896', 'p551', 'p599', 'p1408', 'p1456', 'p11', 'p12']\n",
    "top_35=['p1362', 'p1314', 'p1363', 'p1409', 'p1315', 'p24', 'p25', 'p30', 'p26', 'p27', 'p818', 'p770', 'p866', 'p819', 'p867', 'p1897', 'p1896', 'p1849', 'p1945', 'p1944', 'p551', 'p599', 'p600', 'p648', 'p552', 'p1408', 'p1456', 'p1409', 'p840', 'p744', 'p11', 'p12', 'p53', 'p197', 'p89']\n",
    "top_70=['p1362', 'p1314', 'p1363', 'p1409', 'p1315', 'p1410', 'p1361', 'p1423', 'p1375', 'p1457', 'p24', 'p25', 'p30', 'p26', 'p27', 'p29', 'p31', 'p19', 'p78', 'p79', 'p818', 'p770', 'p866', 'p819', 'p867', 'p911', 'p771', 'p863', 'p914', 'p623', 'p1897', 'p1896', 'p1849', 'p1945', 'p1944', 'p1850', 'p1898', 'p1848', 'p1993', 'p1992', 'p551', 'p599', 'p600', 'p648', 'p552', 'p647', 'p601', 'p649', 'p553', 'p550', 'p1408', 'p1456', 'p1409', 'p840', 'p744', 'p745', 'p792', 'p793', 'p1361', 'p1455', 'p11', 'p12', 'p53', 'p197', 'p89', 'p59', 'p150', 'p245', 'p137', 'p14']\n",
    "\n",
    "top_35=list(set(top_35))\n",
    "top_70=list(set(top_70))"
   ]
  },
  {
   "cell_type": "code",
   "execution_count": 20,
   "metadata": {},
   "outputs": [
    {
     "name": "stdout",
     "output_type": "stream",
     "text": [
      "Overall Accuracy of the model:0.2151016996377821\n"
     ]
    }
   ],
   "source": [
    "nb.fit(X_train[top_14],y_train)\n",
    "predictions=nb.predict(X_test[top_14])\n",
    "print(\"Overall Accuracy of the model:{0}\".format(accuracy_score(y_test,predictions)))"
   ]
  },
  {
   "cell_type": "code",
   "execution_count": 21,
   "metadata": {},
   "outputs": [
    {
     "name": "stdout",
     "output_type": "stream",
     "text": [
      "Overall Accuracy of the model:0.22137085539147394\n"
     ]
    }
   ],
   "source": [
    "nb.fit(X_train[top_35],y_train)\n",
    "predictions=nb.predict(X_test[top_35])\n",
    "print(\"Overall Accuracy of the model:{0}\".format(accuracy_score(y_test,predictions)))"
   ]
  },
  {
   "cell_type": "code",
   "execution_count": 22,
   "metadata": {},
   "outputs": [
    {
     "name": "stdout",
     "output_type": "stream",
     "text": [
      "Overall Accuracy of the model:0.22471440512677626\n"
     ]
    }
   ],
   "source": [
    "nb.fit(X_train[top_70],y_train)\n",
    "predictions=nb.predict(X_test[top_70])\n",
    "print(\"Overall Accuracy of the model:{0}\".format(accuracy_score(y_test,predictions)))"
   ]
  },
  {
   "cell_type": "code",
   "execution_count": 25,
   "metadata": {},
   "outputs": [
    {
     "name": "stdout",
     "output_type": "stream",
     "text": [
      "Overall Accuracy of the model:0.1329172123610221\n"
     ]
    }
   ],
   "source": [
    "print(\"Overall Accuracy of the model:{0}\".format(accuracy_score(data['emotion'],labels)))"
   ]
  },
  {
   "cell_type": "code",
   "execution_count": 8,
   "metadata": {},
   "outputs": [
    {
     "data": {
      "text/plain": [
       "(10, 2304)"
      ]
     },
     "execution_count": 8,
     "metadata": {},
     "output_type": "execute_result"
    }
   ],
   "source": [
    "#Clustering with all features ,n_clusters=10\n",
    "from sklearn.cluster import KMeans\n",
    "kmeans=KMeans(n_clusters=10,random_state=1)\n",
    "#Calculated distance for all features\n",
    "clusters = kmeans.fit_predict(X_train)#Fit the training set without label column\n",
    "kmeans.cluster_centers_.shape"
   ]
  },
  {
   "cell_type": "code",
   "execution_count": 12,
   "metadata": {},
   "outputs": [
    {
     "data": {
      "image/png": "[encoded data removed]",
      "text/plain": [
       "<Figure size 1440x720 with 10 Axes>"
      ]
     },
     "metadata": {},
     "output_type": "display_data"
    }
   ],
   "source": [
    "fig, ax = plt.subplots(2, 5, figsize=(20, 10))\n",
    "centers = kmeans.cluster_centers_.reshape(10,48,48)\n",
    "for axi, center in zip(ax.flat, centers):\n",
    "    axi.set(xticks=[], yticks=[])\n",
    "    axi.imshow(center, interpolation='nearest', cmap=plt.cm.binary)"
   ]
  },
  {
   "cell_type": "code",
   "execution_count": 13,
   "metadata": {},
   "outputs": [],
   "source": [
    "from scipy.stats import mode\n",
    "\n",
    "labels = np.zeros_like(clusters)\n",
    "for i in range(20):\n",
    "    mask = (clusters == i)\n",
    "    labels[mask] = mode(y_train[mask])[0]"
   ]
  },
  {
   "cell_type": "code",
   "execution_count": 13,
   "metadata": {},
   "outputs": [
    {
     "data": {
      "text/plain": [
       "array([3, 3, 3, ..., 3, 3, 3])"
      ]
     },
     "execution_count": 13,
     "metadata": {},
     "output_type": "execute_result"
    }
   ],
   "source": [
    "labels"
   ]
  },
  {
   "cell_type": "code",
   "execution_count": 14,
   "metadata": {},
   "outputs": [
    {
     "data": {
      "text/plain": [
       "0.25960500191577557"
      ]
     },
     "execution_count": 14,
     "metadata": {},
     "output_type": "execute_result"
    }
   ],
   "source": [
    "from sklearn.metrics import accuracy_score\n",
    "accuracy_score(y_train, labels)"
   ]
  },
  {
   "cell_type": "code",
   "execution_count": 15,
   "metadata": {},
   "outputs": [],
   "source": [
    "#Clustering with all features ,n_clusters=20\n",
    "\n",
    "kmeans=KMeans(n_clusters=20,random_state=1)\n",
    "#Calculated distance for all features\n",
    "kmeans.fit(X_train)#Fit the training set without label column\n",
    "labels=kmeans.predict(X_test)\n"
   ]
  },
  {
   "cell_type": "code",
   "execution_count": 11,
   "metadata": {},
   "outputs": [],
   "source": []
  },
  {
   "cell_type": "code",
   "execution_count": 15,
   "metadata": {},
   "outputs": [
    {
     "data": {
      "text/plain": [
       "28709"
      ]
     },
     "execution_count": 15,
     "metadata": {},
     "output_type": "execute_result"
    }
   ],
   "source": []
  },
  {
   "cell_type": "code",
   "execution_count": 15,
   "metadata": {},
   "outputs": [],
   "source": [
    "def find_clusters(n_num,features):\n",
    "    kmeans=KMeans(n_clusters=n_num,random_state=1)\n",
    "    #Calculated distance for all features\n",
    "    clusters = kmeans.fit_predict(X_train[features])#Fit the training set without label column\n",
    "    print(kmeans.cluster_centers_.shape)\n",
    "    mapping={}\n",
    "    labels = np.zeros_like(clusters)\n",
    "    for i in range(n_num):\n",
    "        mask = (clusters == i)\n",
    "        labels[mask] = mode(y_train[mask])[0]\n",
    "        mapping[i]=mode(y_train[mask])[0][0]\n",
    "    print(accuracy_score(y_train, labels))\n",
    "    cluster_test=kmeans.predict(X_test[features])\n",
    "    y_predict=[mapping[c_test] for c_test in cluster_test ]\n",
    "    print(accuracy_score(y_test, y_predict))\n",
    "    print(mapping)\n",
    "    "
   ]
  },
  {
   "cell_type": "code",
   "execution_count": 16,
   "metadata": {},
   "outputs": [
    {
     "name": "stdout",
     "output_type": "stream",
     "text": [
      "(7, 1041)\n",
      "0.25107109268870387\n",
      "0.24811925327389245\n",
      "{0: 3, 1: 3, 2: 5, 3: 3, 4: 3, 5: 3, 6: 3}\n"
     ]
    }
   ],
   "source": [
    "find_clusters(7,extracted_features)"
   ]
  },
  {
   "cell_type": "code",
   "execution_count": 17,
   "metadata": {},
   "outputs": [
    {
     "name": "stdout",
     "output_type": "stream",
     "text": [
      "(10, 1041)\n",
      "0.25100142812358495\n",
      "0.24811925327389245\n",
      "{0: 3, 1: 3, 2: 3, 3: 6, 4: 3, 5: 3, 6: 3, 7: 3, 8: 3, 9: 3}\n"
     ]
    }
   ],
   "source": [
    "find_clusters(10,extracted_features)"
   ]
  },
  {
   "cell_type": "code",
   "execution_count": 18,
   "metadata": {},
   "outputs": [
    {
     "name": "stdout",
     "output_type": "stream",
     "text": [
      "(20, 1041)\n",
      "0.25535546344351945\n",
      "0.2559208693229312\n",
      "{0: 3, 1: 3, 2: 3, 3: 3, 4: 3, 5: 5, 6: 3, 7: 5, 8: 3, 9: 3, 10: 3, 11: 3, 12: 3, 13: 3, 14: 5, 15: 3, 16: 3, 17: 3, 18: 3, 19: 3}\n"
     ]
    }
   ],
   "source": [
    "find_clusters(20,extracted_features)"
   ]
  },
  {
   "cell_type": "code",
   "execution_count": 19,
   "metadata": {},
   "outputs": [
    {
     "name": "stdout",
     "output_type": "stream",
     "text": [
      "(50, 1041)\n",
      "0.26204326169493886\n",
      "0.25257731958762886\n",
      "{0: 5, 1: 3, 2: 6, 3: 3, 4: 4, 5: 3, 6: 3, 7: 3, 8: 3, 9: 5, 10: 3, 11: 3, 12: 3, 13: 3, 14: 5, 15: 3, 16: 0, 17: 3, 18: 3, 19: 3, 20: 3, 21: 6, 22: 5, 23: 0, 24: 3, 25: 6, 26: 3, 27: 4, 28: 3, 29: 3, 30: 3, 31: 3, 32: 3, 33: 2, 34: 3, 35: 3, 36: 3, 37: 3, 38: 6, 39: 4, 40: 3, 41: 3, 42: 4, 43: 3, 44: 3, 45: 5, 46: 3, 47: 3, 48: 3, 49: 3}\n"
     ]
    }
   ],
   "source": [
    "find_clusters(50,extracted_features)"
   ]
  },
  {
   "cell_type": "code",
   "execution_count": 20,
   "metadata": {
    "scrolled": true
   },
   "outputs": [
    {
     "name": "stdout",
     "output_type": "stream",
     "text": [
      "(100, 1041)\n",
      "0.26960186701034516\n",
      "0.26010030649205906\n",
      "{0: 5, 1: 5, 2: 3, 3: 3, 4: 3, 5: 3, 6: 2, 7: 3, 8: 3, 9: 3, 10: 3, 11: 0, 12: 6, 13: 2, 14: 3, 15: 3, 16: 3, 17: 3, 18: 5, 19: 5, 20: 3, 21: 6, 22: 3, 23: 3, 24: 4, 25: 3, 26: 3, 27: 3, 28: 0, 29: 3, 30: 3, 31: 2, 32: 4, 33: 3, 34: 3, 35: 0, 36: 4, 37: 6, 38: 3, 39: 3, 40: 6, 41: 3, 42: 0, 43: 4, 44: 3, 45: 3, 46: 3, 47: 3, 48: 3, 49: 3, 50: 3, 51: 3, 52: 3, 53: 4, 54: 6, 55: 3, 56: 3, 57: 3, 58: 5, 59: 3, 60: 3, 61: 3, 62: 5, 63: 2, 64: 3, 65: 4, 66: 3, 67: 0, 68: 3, 69: 3, 70: 3, 71: 2, 72: 6, 73: 3, 74: 4, 75: 3, 76: 3, 77: 3, 78: 6, 79: 5, 80: 3, 81: 4, 82: 3, 83: 3, 84: 3, 85: 6, 86: 3, 87: 3, 88: 3, 89: 3, 90: 3, 91: 6, 92: 5, 93: 3, 94: 3, 95: 3, 96: 2, 97: 3, 98: 6, 99: 3}\n"
     ]
    }
   ],
   "source": [
    "find_clusters(100,extracted_features)"
   ]
  },
  {
   "cell_type": "code",
   "execution_count": 21,
   "metadata": {},
   "outputs": [
    {
     "name": "stdout",
     "output_type": "stream",
     "text": [
      "(7, 14)\n",
      "0.2533700233376293\n",
      "0.25536361103371413\n",
      "{0: 3, 1: 4, 2: 3, 3: 3, 4: 3, 5: 3, 6: 3}\n"
     ]
    }
   ],
   "source": [
    "find_clusters(7,top_14)"
   ]
  },
  {
   "cell_type": "code",
   "execution_count": 22,
   "metadata": {},
   "outputs": [
    {
     "name": "stdout",
     "output_type": "stream",
     "text": [
      "(10, 14)\n",
      "0.2527082099689993\n",
      "0.25327389244915016\n",
      "{0: 3, 1: 3, 2: 3, 3: 3, 4: 4, 5: 3, 6: 3, 7: 3, 8: 3, 9: 3}\n"
     ]
    }
   ],
   "source": [
    "find_clusters(10,top_14)"
   ]
  },
  {
   "cell_type": "code",
   "execution_count": 23,
   "metadata": {},
   "outputs": [
    {
     "name": "stdout",
     "output_type": "stream",
     "text": [
      "(20, 14)\n",
      "0.27127381657320004\n",
      "0.26845918083031484\n",
      "{0: 4, 1: 3, 2: 3, 3: 6, 4: 3, 5: 3, 6: 4, 7: 3, 8: 3, 9: 3, 10: 3, 11: 3, 12: 5, 13: 6, 14: 3, 15: 4, 16: 3, 17: 3, 18: 3, 19: 5}\n"
     ]
    }
   ],
   "source": [
    "find_clusters(20,top_14)"
   ]
  },
  {
   "cell_type": "code",
   "execution_count": 24,
   "metadata": {},
   "outputs": [
    {
     "name": "stdout",
     "output_type": "stream",
     "text": [
      "(50, 14)\n",
      "0.28471907764115784\n",
      "0.2812761214823071\n",
      "{0: 4, 1: 3, 2: 5, 3: 3, 4: 3, 5: 3, 6: 4, 7: 3, 8: 5, 9: 4, 10: 4, 11: 3, 12: 5, 13: 3, 14: 6, 15: 5, 16: 3, 17: 3, 18: 3, 19: 5, 20: 4, 21: 2, 22: 4, 23: 4, 24: 6, 25: 4, 26: 3, 27: 3, 28: 3, 29: 3, 30: 3, 31: 3, 32: 5, 33: 3, 34: 3, 35: 3, 36: 3, 37: 3, 38: 3, 39: 3, 40: 4, 41: 3, 42: 5, 43: 3, 44: 3, 45: 3, 46: 3, 47: 3, 48: 4, 49: 3}\n"
     ]
    }
   ],
   "source": [
    "find_clusters(50,top_14)"
   ]
  },
  {
   "cell_type": "code",
   "execution_count": 25,
   "metadata": {},
   "outputs": [
    {
     "name": "stdout",
     "output_type": "stream",
     "text": [
      "(100, 14)\n",
      "0.2905709011111498\n",
      "0.28838116466982444\n",
      "{0: 5, 1: 5, 2: 3, 3: 3, 4: 4, 5: 4, 6: 3, 7: 3, 8: 3, 9: 3, 10: 4, 11: 3, 12: 4, 13: 3, 14: 3, 15: 5, 16: 3, 17: 5, 18: 3, 19: 5, 20: 3, 21: 2, 22: 3, 23: 4, 24: 2, 25: 4, 26: 3, 27: 3, 28: 6, 29: 4, 30: 3, 31: 6, 32: 2, 33: 4, 34: 4, 35: 3, 36: 6, 37: 3, 38: 4, 39: 3, 40: 3, 41: 4, 42: 5, 43: 3, 44: 3, 45: 3, 46: 6, 47: 3, 48: 2, 49: 6, 50: 6, 51: 4, 52: 5, 53: 3, 54: 3, 55: 3, 56: 3, 57: 4, 58: 3, 59: 3, 60: 3, 61: 5, 62: 4, 63: 4, 64: 0, 65: 3, 66: 3, 67: 5, 68: 4, 69: 3, 70: 5, 71: 3, 72: 3, 73: 4, 74: 3, 75: 3, 76: 3, 77: 3, 78: 3, 79: 4, 80: 3, 81: 6, 82: 3, 83: 3, 84: 3, 85: 4, 86: 3, 87: 3, 88: 6, 89: 3, 90: 6, 91: 0, 92: 5, 93: 3, 94: 3, 95: 3, 96: 3, 97: 3, 98: 3, 99: 3}\n"
     ]
    }
   ],
   "source": [
    "find_clusters(100,top_14)"
   ]
  },
  {
   "cell_type": "code",
   "execution_count": 9,
   "metadata": {},
   "outputs": [],
   "source": [
    "#Elbow method for top 14\n",
    "from sklearn.preprocessing import MinMaxScaler\n",
    "from sklearn.cluster import KMeans\n",
    "mms=MinMaxScaler()\n",
    "mms.fit(X_train[top_14])\n",
    "Xn_train=mms.transform(X_train[top_14])\n",
    "Xn_train=pd.DataFrame(Xn_train,columns=top_14)\n",
    "\n"
   ]
  },
  {
   "cell_type": "code",
   "execution_count": 11,
   "metadata": {},
   "outputs": [
    {
     "name": "stdout",
     "output_type": "stream",
     "text": [
      "(28709, 14)\n"
     ]
    }
   ],
   "source": [
    "print(Xn_train.shape)"
   ]
  },
  {
   "cell_type": "code",
   "execution_count": 14,
   "metadata": {},
   "outputs": [],
   "source": [
    "#Elbow method to minimize within cluster sum of square\n",
    "sum_of_squared_distances=[]\n",
    "K=range(1,30)\n",
    "for k in K:\n",
    "    km=KMeans(n_clusters=k)\n",
    "    km=km.fit(Xn_train)\n",
    "    sum_of_squared_distances.append(km.inertia_)\n",
    "    "
   ]
  },
  {
   "cell_type": "code",
   "execution_count": 15,
   "metadata": {},
   "outputs": [
    {
     "data": {
      "image/png": "[encoded data removed]",
      "text/plain": [
       "<Figure size 432x288 with 1 Axes>"
      ]
     },
     "metadata": {
      "needs_background": "light"
     },
     "output_type": "display_data"
    }
   ],
   "source": [
    "#Plotting elbow curve\n",
    "plt.plot(K,sum_of_squared_distances)\n",
    "plt.xlabel('K')\n",
    "plt.ylabel('sum_of_squared_distances')\n",
    "plt.title('Plotting elbow curve')\n",
    "plt.show()"
   ]
  },
  {
   "cell_type": "code",
   "execution_count": null,
   "metadata": {},
   "outputs": [],
   "source": [
    "import matplotlib.pyplot as plt\n",
    "K=range(1,20)\n",
    "ssq=[2.934,2.9033,2.8912,2.8857,2.8812,2.8784,2.8751,2.8701,2.8673,]"
   ]
  },
  {
   "cell_type": "code",
   "execution_count": 26,
   "metadata": {},
   "outputs": [
    {
     "name": "stdout",
     "output_type": "stream",
     "text": [
      "(7, 34)\n",
      "0.25640043192030376\n",
      "0.2535525215937587\n",
      "{0: 3, 1: 3, 2: 4, 3: 3, 4: 3, 5: 3, 6: 3}\n",
      "(10, 34)\n",
      "0.2561914382249469\n",
      "0.2573140150459738\n",
      "{0: 3, 1: 3, 2: 3, 3: 3, 4: 4, 5: 3, 6: 3, 7: 3, 8: 4, 9: 3}\n",
      "(20, 34)\n",
      "0.274269392873315\n",
      "0.27667874059626635\n",
      "{0: 3, 1: 2, 2: 3, 3: 3, 4: 3, 5: 4, 6: 4, 7: 3, 8: 3, 9: 6, 10: 3, 11: 3, 12: 3, 13: 4, 14: 4, 15: 6, 16: 3, 17: 5, 18: 5, 19: 3}\n",
      "(50, 34)\n",
      "0.2856943815528232\n",
      "0.28392309835608803\n",
      "{0: 4, 1: 5, 2: 3, 3: 5, 4: 3, 5: 3, 6: 3, 7: 2, 8: 3, 9: 3, 10: 3, 11: 3, 12: 2, 13: 4, 14: 3, 15: 3, 16: 3, 17: 3, 18: 4, 19: 5, 20: 3, 21: 3, 22: 4, 23: 3, 24: 3, 25: 3, 26: 3, 27: 4, 28: 3, 29: 5, 30: 4, 31: 4, 32: 3, 33: 3, 34: 6, 35: 4, 36: 3, 37: 4, 38: 3, 39: 3, 40: 3, 41: 3, 42: 3, 43: 6, 44: 3, 45: 6, 46: 6, 47: 3, 48: 3, 49: 2}\n",
      "(100, 34)\n",
      "0.2919293601309694\n",
      "0.28796322095291166\n",
      "{0: 4, 1: 3, 2: 6, 3: 3, 4: 4, 5: 3, 6: 3, 7: 4, 8: 5, 9: 3, 10: 4, 11: 4, 12: 2, 13: 3, 14: 3, 15: 3, 16: 3, 17: 3, 18: 0, 19: 5, 20: 6, 21: 6, 22: 3, 23: 3, 24: 5, 25: 3, 26: 4, 27: 3, 28: 3, 29: 3, 30: 3, 31: 3, 32: 3, 33: 6, 34: 4, 35: 5, 36: 6, 37: 4, 38: 3, 39: 4, 40: 2, 41: 3, 42: 4, 43: 5, 44: 3, 45: 5, 46: 0, 47: 5, 48: 3, 49: 3, 50: 6, 51: 4, 52: 2, 53: 2, 54: 2, 55: 6, 56: 4, 57: 3, 58: 6, 59: 2, 60: 3, 61: 2, 62: 3, 63: 5, 64: 3, 65: 0, 66: 3, 67: 4, 68: 3, 69: 3, 70: 3, 71: 3, 72: 4, 73: 3, 74: 2, 75: 3, 76: 6, 77: 6, 78: 4, 79: 3, 80: 6, 81: 3, 82: 3, 83: 5, 84: 3, 85: 3, 86: 3, 87: 5, 88: 2, 89: 3, 90: 4, 91: 3, 92: 3, 93: 4, 94: 3, 95: 3, 96: 3, 97: 6, 98: 3, 99: 3}\n"
     ]
    }
   ],
   "source": [
    "find_clusters(7,top_35)\n",
    "find_clusters(10,top_35)\n",
    "find_clusters(20,top_35)\n",
    "find_clusters(50,top_35)\n",
    "find_clusters(100,top_35)"
   ]
  },
  {
   "cell_type": "code",
   "execution_count": 27,
   "metadata": {},
   "outputs": [
    {
     "name": "stdout",
     "output_type": "stream",
     "text": [
      "(7, 68)\n",
      "0.2561217736598279\n",
      "0.25466703817219283\n",
      "{0: 3, 1: 3, 2: 3, 3: 3, 4: 4, 5: 3, 6: 3}\n",
      "(10, 68)\n",
      "0.2555992894214358\n",
      "0.2575926441905823\n",
      "{0: 3, 1: 3, 2: 4, 3: 4, 4: 3, 5: 3, 6: 3, 7: 3, 8: 3, 9: 3}\n",
      "(20, 68)\n",
      "0.26284440419380684\n",
      "0.26177208135971025\n",
      "{0: 3, 1: 4, 2: 3, 3: 3, 4: 3, 5: 2, 6: 3, 7: 3, 8: 5, 9: 4, 10: 3, 11: 3, 12: 3, 13: 3, 14: 3, 15: 3, 16: 4, 17: 3, 18: 3, 19: 3}\n",
      "(50, 68)\n",
      "0.2822111532968755\n",
      "0.28085817776539423\n",
      "{0: 4, 1: 3, 2: 3, 3: 3, 4: 3, 5: 3, 6: 6, 7: 4, 8: 3, 9: 3, 10: 3, 11: 4, 12: 3, 13: 4, 14: 4, 15: 5, 16: 3, 17: 3, 18: 3, 19: 3, 20: 3, 21: 4, 22: 5, 23: 3, 24: 3, 25: 3, 26: 5, 27: 3, 28: 3, 29: 5, 30: 4, 31: 3, 32: 4, 33: 6, 34: 3, 35: 5, 36: 6, 37: 3, 38: 3, 39: 3, 40: 4, 41: 3, 42: 3, 43: 4, 44: 0, 45: 3, 46: 6, 47: 3, 48: 3, 49: 3}\n",
      "(100, 68)\n",
      "0.2936361419763837\n",
      "0.2875452772359989\n",
      "{0: 5, 1: 3, 2: 2, 3: 3, 4: 3, 5: 3, 6: 4, 7: 3, 8: 2, 9: 6, 10: 3, 11: 6, 12: 2, 13: 3, 14: 3, 15: 3, 16: 4, 17: 4, 18: 4, 19: 4, 20: 3, 21: 5, 22: 5, 23: 3, 24: 3, 25: 3, 26: 3, 27: 5, 28: 4, 29: 3, 30: 3, 31: 3, 32: 6, 33: 3, 34: 3, 35: 3, 36: 5, 37: 6, 38: 3, 39: 3, 40: 4, 41: 3, 42: 4, 43: 3, 44: 4, 45: 3, 46: 4, 47: 6, 48: 3, 49: 3, 50: 3, 51: 0, 52: 3, 53: 6, 54: 3, 55: 5, 56: 0, 57: 6, 58: 3, 59: 3, 60: 3, 61: 3, 62: 3, 63: 3, 64: 6, 65: 5, 66: 3, 67: 3, 68: 4, 69: 3, 70: 3, 71: 5, 72: 6, 73: 5, 74: 3, 75: 4, 76: 4, 77: 3, 78: 6, 79: 3, 80: 4, 81: 4, 82: 4, 83: 6, 84: 3, 85: 3, 86: 3, 87: 3, 88: 3, 89: 3, 90: 6, 91: 4, 92: 2, 93: 3, 94: 6, 95: 3, 96: 5, 97: 5, 98: 4, 99: 2}\n"
     ]
    }
   ],
   "source": [
    "find_clusters(7,top_70)\n",
    "find_clusters(10,top_70)\n",
    "find_clusters(20,top_70)\n",
    "find_clusters(50,top_70)\n",
    "find_clusters(100,top_70)"
   ]
  },
  {
   "cell_type": "code",
   "execution_count": null,
   "metadata": {},
   "outputs": [],
   "source": [
    "from sklearn.metrics import confusion_matrix\n",
    "\n",
    "mat = confusion_matrix(final_data['emotion'], labels)\n",
    "sns.heatmap(mat.T, square=True, annot=True, fmt='d', cbar=False,\n",
    "            xticklabels=final_data['emotion'],\n",
    "            yticklabels=final_data['emotion'])\n",
    "plt.xlabel('true label')\n",
    "plt.ylabel('predicted label');"
   ]
  },
  {
   "cell_type": "code",
   "execution_count": null,
   "metadata": {},
   "outputs": [],
   "source": [
    "plt.show()"
   ]
  },
  {
   "cell_type": "code",
   "execution_count": null,
   "metadata": {},
   "outputs": [],
   "source": [
    "from sklearn.cluster import MeanShift\n",
    "from scipy.stats import mode\n",
    "ms = MeanShift()\n",
    "ms.fit(X_train[extracted_features])\n",
    "clusters = ms.labels_\n",
    "print(clusters)\n",
    "labels = np.zeros_like(clusters)\n",
    "print(len(clusters))\n",
    "for i in range(len(clusters)):\n",
    "    mask = (clusters == i)\n",
    "    print(i)\n",
    "    labels[mask] = mode(y_train[mask])[0]\n",
    "    mapping[i]=mode(y_train[mask])[0][0]\n",
    "print(accuracy_score(y_train, labels))\n",
    "cluster_test=ms.predict(X_test[extracted_features])\n",
    "y_predict=[mapping[c_test] for c_test in cluster_test ]\n",
    "print(accuracy_score(y_test, y_predict))"
   ]
  },
  {
   "cell_type": "code",
   "execution_count": 34,
   "metadata": {},
   "outputs": [],
   "source": [
    "#MiniBatch\n",
    "from sklearn.cluster import MiniBatchKMeans, estimate_bandwidth\n",
    "from scipy.stats import mode\n",
    "def mini_batch_clusters(n_num,features):\n",
    "    ms=MiniBatchKMeans(n_clusters=n_num)\n",
    "    ms.fit(X_train[features])\n",
    "    print(ms.cluster_centers_.shape)\n",
    "    clusters = ms.labels_\n",
    "    labels = np.zeros_like(clusters)\n",
    "    mapping={}\n",
    "    for i in range(ms.cluster_centers_.shape[0]):\n",
    "        mask = (clusters == i)\n",
    "        labels[mask] = mode(y_train[mask])[0]\n",
    "        mapping[i]=mode(y_train[mask])[0][0]\n",
    "    print(accuracy_score(y_train, labels))\n",
    "    cluster_test=ms.predict(X_test[features])\n",
    "    y_predict=[mapping[c_test] for c_test in cluster_test ]\n",
    "    print(accuracy_score(y_test, y_predict))\n",
    "    print(Counter(y_predict))"
   ]
  },
  {
   "cell_type": "code",
   "execution_count": 37,
   "metadata": {},
   "outputs": [
    {
     "name": "stdout",
     "output_type": "stream",
     "text": [
      "(10, 1041)\n",
      "0.25242955170852344\n",
      "0.2528559487322374\n",
      "Counter({3: 6600, 5: 578})\n",
      "(10, 14)\n",
      "0.25215089344804764\n",
      "0.24714405126776262\n",
      "Counter({3: 6834, 4: 344})\n",
      "(10, 34)\n",
      "0.2560172768121495\n",
      "0.2543884090275843\n",
      "Counter({3: 6517, 4: 661})\n",
      "(10, 68)\n",
      "0.2594656727855376\n",
      "0.25912510448592924\n",
      "Counter({3: 5949, 4: 1229})\n"
     ]
    }
   ],
   "source": [
    "from collections import Counter\n",
    "mini_batch_clusters(10,extracted_features)\n",
    "mini_batch_clusters(10,top_14)\n",
    "mini_batch_clusters(10,top_35)\n",
    "mini_batch_clusters(10,top_70)"
   ]
  },
  {
   "cell_type": "code",
   "execution_count": 19,
   "metadata": {},
   "outputs": [],
   "source": [
    "import scipy.cluster.hierarchy as sch\n",
    "from sklearn.cluster import AgglomerativeClustering\n",
    "from scipy.stats import mode\n",
    "def h_cluster(n_num,features):\n",
    "    # create dendrogram\n",
    "    dendrogram = sch.dendrogram(sch.linkage(X_train[features], method='ward'))\n",
    "    # create clusters\n",
    "    print('Start:')\n",
    "    hc = AgglomerativeClustering(n_clusters=n_num, affinity = 'euclidean', linkage = 'ward')\n",
    "    # save clusters for chart\n",
    "    clusters = hc.fit_predict(X_train[features])\n",
    "    labels = np.zeros_like(clusters)\n",
    "    mapping={}\n",
    "    for i in range(n_num):\n",
    "        mask = (clusters == i)\n",
    "        labels[mask] = mode(y_train[mask])[0]\n",
    "        mapping[i]=mode(y_train[mask])[0][0]\n",
    "    print(accuracy_score(y_train, labels))\n",
    "    cluster_test=hc.fit_predict(X_test[features])\n",
    "    y_predict=[mapping[c_test] for c_test in cluster_test ]\n",
    "    print(accuracy_score(y_test, y_predict))"
   ]
  },
  {
   "cell_type": "code",
   "execution_count": 20,
   "metadata": {},
   "outputs": [
    {
     "name": "stdout",
     "output_type": "stream",
     "text": [
      "Start:\n",
      "0.25093176355846597\n",
      "0.2486765115631095\n",
      "Start:\n",
      "0.256783587028458\n",
      "0.21830593480078017\n",
      "Start:\n",
      "0.25462398550977045\n",
      "0.24198941209250488\n",
      "Start:\n",
      "0.2576543940924449\n",
      "0.20521036500417944\n"
     ]
    },
    {
     "data": {
      "image/png": "[encoded data removed]",
      "text/plain": [
       "<Figure size 432x288 with 1 Axes>"
      ]
     },
     "metadata": {
      "needs_background": "light"
     },
     "output_type": "display_data"
    }
   ],
   "source": [
    "h_cluster(10,extracted_features)\n",
    "h_cluster(10,top_14)\n",
    "h_cluster(10,top_35)\n",
    "h_cluster(10,top_70)"
   ]
  },
  {
   "cell_type": "code",
   "execution_count": 12,
   "metadata": {},
   "outputs": [
    {
     "name": "stdout",
     "output_type": "stream",
     "text": [
      "-104943619.23881999\n",
      "100\n"
     ]
    }
   ],
   "source": [
    "#Grid Search for obtaining optimal number of clusters.\n",
    "from sklearn.cluster import KMeans\n",
    "from sklearn.model_selection import GridSearchCV\n",
    "\n",
    "alphas = [1,5,7,10,50,100]\n",
    "param_grid = dict(n_clusters=alphas)\n",
    "model = KMeans()\n",
    "grid = GridSearchCV(estimator=model, param_grid=param_grid)\n",
    "grid.fit(X_train[top_14])\n",
    "print(grid.best_score_)\n",
    "print(grid.best_estimator_.n_clusters)"
   ]
  },
  {
   "cell_type": "code",
   "execution_count": null,
   "metadata": {},
   "outputs": [],
   "source": []
  }
 ],
 "metadata": {
  "kernelspec": {
   "display_name": "Python 3",
   "language": "python",
   "name": "python3"
  },
  "language_info": {
   "codemirror_mode": {
    "name": "ipython",
    "version": 3
   },
   "file_extension": ".py",
   "mimetype": "text/x-python",
   "name": "python",
   "nbconvert_exporter": "python",
   "pygments_lexer": "ipython3",
   "version": "3.7.0"
  }
 },
 "nbformat": 4,
 "nbformat_minor": 2
}
